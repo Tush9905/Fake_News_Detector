{
 "cells": [
  {
   "cell_type": "code",
   "execution_count": 20,
   "metadata": {},
   "outputs": [],
   "source": [
    "import numpy as np\n",
    "import pandas as pd\n",
    "import evaluate\n",
    "import torch\n",
    "from transformers import DataCollatorWithPadding, TrainingArguments, Trainer, AutoModelForSequenceClassification, AutoTokenizer, pipeline\n",
    "from sklearn.model_selection import train_test_split"
   ]
  },
  {
   "cell_type": "code",
   "execution_count": 21,
   "metadata": {},
   "outputs": [
    {
     "data": {
      "text/html": [
       "<div>\n",
       "<style scoped>\n",
       "    .dataframe tbody tr th:only-of-type {\n",
       "        vertical-align: middle;\n",
       "    }\n",
       "\n",
       "    .dataframe tbody tr th {\n",
       "        vertical-align: top;\n",
       "    }\n",
       "\n",
       "    .dataframe thead th {\n",
       "        text-align: right;\n",
       "    }\n",
       "</style>\n",
       "<table border=\"1\" class=\"dataframe\">\n",
       "  <thead>\n",
       "    <tr style=\"text-align: right;\">\n",
       "      <th></th>\n",
       "      <th>text</th>\n",
       "      <th>label</th>\n",
       "    </tr>\n",
       "  </thead>\n",
       "  <tbody>\n",
       "    <tr>\n",
       "      <th>0</th>\n",
       "      <td>LAW ENFORCEMENT ON HIGH ALERT Following Threat...</td>\n",
       "      <td>1</td>\n",
       "    </tr>\n",
       "    <tr>\n",
       "      <th>1</th>\n",
       "      <td>nan Did they post their votes for Hillary alre...</td>\n",
       "      <td>1</td>\n",
       "    </tr>\n",
       "    <tr>\n",
       "      <th>2</th>\n",
       "      <td>UNBELIEVABLE! OBAMA’S ATTORNEY GENERAL SAYS MO...</td>\n",
       "      <td>1</td>\n",
       "    </tr>\n",
       "    <tr>\n",
       "      <th>3</th>\n",
       "      <td>Bobby Jindal, raised Hindu, uses story of Chri...</td>\n",
       "      <td>0</td>\n",
       "    </tr>\n",
       "    <tr>\n",
       "      <th>4</th>\n",
       "      <td>SATAN 2: Russia unvelis an image of its terrif...</td>\n",
       "      <td>1</td>\n",
       "    </tr>\n",
       "    <tr>\n",
       "      <th>...</th>\n",
       "      <td>...</td>\n",
       "      <td>...</td>\n",
       "    </tr>\n",
       "    <tr>\n",
       "      <th>72129</th>\n",
       "      <td>Russians steal research on Trump in hack of U....</td>\n",
       "      <td>0</td>\n",
       "    </tr>\n",
       "    <tr>\n",
       "      <th>72130</th>\n",
       "      <td>WATCH: Giuliani Demands That Democrats Apolog...</td>\n",
       "      <td>1</td>\n",
       "    </tr>\n",
       "    <tr>\n",
       "      <th>72131</th>\n",
       "      <td>Migrants Refuse To Leave Train At Refugee Camp...</td>\n",
       "      <td>0</td>\n",
       "    </tr>\n",
       "    <tr>\n",
       "      <th>72132</th>\n",
       "      <td>Trump tussle gives unpopular Mexican leader mu...</td>\n",
       "      <td>0</td>\n",
       "    </tr>\n",
       "    <tr>\n",
       "      <th>72133</th>\n",
       "      <td>Goldman Sachs Endorses Hillary Clinton For Pre...</td>\n",
       "      <td>1</td>\n",
       "    </tr>\n",
       "  </tbody>\n",
       "</table>\n",
       "<p>72134 rows × 2 columns</p>\n",
       "</div>"
      ],
      "text/plain": [
       "                                                    text  label\n",
       "0      LAW ENFORCEMENT ON HIGH ALERT Following Threat...      1\n",
       "1      nan Did they post their votes for Hillary alre...      1\n",
       "2      UNBELIEVABLE! OBAMA’S ATTORNEY GENERAL SAYS MO...      1\n",
       "3      Bobby Jindal, raised Hindu, uses story of Chri...      0\n",
       "4      SATAN 2: Russia unvelis an image of its terrif...      1\n",
       "...                                                  ...    ...\n",
       "72129  Russians steal research on Trump in hack of U....      0\n",
       "72130   WATCH: Giuliani Demands That Democrats Apolog...      1\n",
       "72131  Migrants Refuse To Leave Train At Refugee Camp...      0\n",
       "72132  Trump tussle gives unpopular Mexican leader mu...      0\n",
       "72133  Goldman Sachs Endorses Hillary Clinton For Pre...      1\n",
       "\n",
       "[72134 rows x 2 columns]"
      ]
     },
     "execution_count": 21,
     "metadata": {},
     "output_type": "execute_result"
    }
   ],
   "source": [
    "df = pd.read_csv(\"WELFake_Dataset.csv\").drop(columns=[\"Unnamed: 0\"], axis=1)\n",
    "df['text'] = df['title'].astype(str) + \" \" + df['text']\n",
    "df = df.drop(columns=[\"title\"], axis=1)\n",
    "df"
   ]
  },
  {
   "cell_type": "code",
   "execution_count": 22,
   "metadata": {},
   "outputs": [],
   "source": [
    "df[\"text\"] = df[\"text\"].map(str)"
   ]
  },
  {
   "cell_type": "code",
   "execution_count": 23,
   "metadata": {},
   "outputs": [],
   "source": [
    "tokenizer = AutoTokenizer.from_pretrained(\"bert-base-uncased\")"
   ]
  },
  {
   "cell_type": "code",
   "execution_count": 24,
   "metadata": {},
   "outputs": [],
   "source": [
    "def preprocess_function(examples):\n",
    "    return tokenizer(examples, truncation=True, padding=True)"
   ]
  },
  {
   "cell_type": "code",
   "execution_count": 25,
   "metadata": {},
   "outputs": [],
   "source": [
    "X = df[\"text\"].map(preprocess_function)\n",
    "y = df[\"label\"]"
   ]
  },
  {
   "cell_type": "code",
   "execution_count": 26,
   "metadata": {},
   "outputs": [],
   "source": [
    "train_encodings, test_encodings, train_labels, test_labels = train_test_split(X, y, test_size=0.25)"
   ]
  },
  {
   "cell_type": "code",
   "execution_count": 27,
   "metadata": {},
   "outputs": [],
   "source": [
    "def Text_dict(X):\n",
    "    X_ = {\"input_ids\" : [], \"attention_mask\" : []}\n",
    "    for i in X:\n",
    "        X_[\"input_ids\"].append(i[\"input_ids\"])\n",
    "        X_[\"attention_mask\"].append(i[\"attention_mask\"])\n",
    "\n",
    "    return X_"
   ]
  },
  {
   "cell_type": "code",
   "execution_count": 28,
   "metadata": {},
   "outputs": [],
   "source": [
    "def Labels_list(y):\n",
    "    y_ = []\n",
    "    for i in y:\n",
    "        y_.append(i)\n",
    "    return y_"
   ]
  },
  {
   "cell_type": "code",
   "execution_count": 29,
   "metadata": {},
   "outputs": [],
   "source": [
    "train_encodings_ = Text_dict(train_encodings)\n",
    "train_encodings = train_encodings_\n",
    "test_encodings_ = Text_dict(test_encodings)\n",
    "test_encodings = test_encodings_"
   ]
  },
  {
   "cell_type": "code",
   "execution_count": 30,
   "metadata": {},
   "outputs": [],
   "source": [
    "train_labels_ = Labels_list(train_labels)\n",
    "train_labels = train_labels_\n",
    "test_labels_ = Labels_list(test_labels)\n",
    "test_labels = test_labels_"
   ]
  },
  {
   "cell_type": "code",
   "execution_count": 31,
   "metadata": {},
   "outputs": [],
   "source": [
    "class Fraud_EMail_Dataset(torch.utils.data.Dataset):\n",
    "    def __init__(self, encodings, labels):\n",
    "        self.encodings = encodings\n",
    "        self.labels = labels\n",
    "\n",
    "    def __getitem__(self, idx):\n",
    "        input_ids = torch.tensor(self.encodings[\"input_ids\"][idx])\n",
    "        target_ids = torch.tensor(self.labels[idx])\n",
    "        return {\"input_ids\": input_ids, \"labels\": target_ids}\n",
    "\n",
    "    def __len__(self):\n",
    "        return len(self.labels)\n",
    "\n",
    "train = Fraud_EMail_Dataset(encodings=train_encodings, labels=train_labels)\n",
    "test = Fraud_EMail_Dataset(encodings=test_encodings, labels=test_labels)"
   ]
  },
  {
   "cell_type": "code",
   "execution_count": 32,
   "metadata": {},
   "outputs": [],
   "source": [
    "data_collator = DataCollatorWithPadding(tokenizer=tokenizer)"
   ]
  },
  {
   "cell_type": "code",
   "execution_count": 33,
   "metadata": {},
   "outputs": [],
   "source": [
    "accuracy = evaluate.load(\"accuracy\")"
   ]
  },
  {
   "cell_type": "code",
   "execution_count": 34,
   "metadata": {},
   "outputs": [],
   "source": [
    "def compute_metrics(eval_pred):\n",
    "    predictions, labels = eval_pred\n",
    "    predictions = np.argmax(predictions, axis=1)\n",
    "    return accuracy.compute(predictions=predictions, references=labels)"
   ]
  },
  {
   "cell_type": "code",
   "execution_count": 35,
   "metadata": {},
   "outputs": [],
   "source": [
    "id2label = {0: \"RELIABLE\", 1: \"UNRELIABLE\"}\n",
    "label2id = {\"RELIABLE\": 0, \"UNRELIABLE\": 1}"
   ]
  },
  {
   "cell_type": "code",
   "execution_count": 36,
   "metadata": {},
   "outputs": [
    {
     "name": "stderr",
     "output_type": "stream",
     "text": [
      "Some weights of BertForSequenceClassification were not initialized from the model checkpoint at bert-base-uncased and are newly initialized: ['classifier.bias', 'classifier.weight']\n",
      "You should probably TRAIN this model on a down-stream task to be able to use it for predictions and inference.\n"
     ]
    }
   ],
   "source": [
    "model = AutoModelForSequenceClassification.from_pretrained(\"bert-base-uncased\", num_labels=2, id2label=id2label, label2id=label2id)"
   ]
  },
  {
   "cell_type": "code",
   "execution_count": 37,
   "metadata": {},
   "outputs": [],
   "source": [
    "import gc\n",
    "gc.collect()\n",
    "torch.cuda.empty_cache()"
   ]
  },
  {
   "cell_type": "code",
   "execution_count": 38,
   "metadata": {},
   "outputs": [
    {
     "data": {
      "application/vnd.jupyter.widget-view+json": {
       "model_id": "36f71a6147a44ab091498c04f39290dd",
       "version_major": 2,
       "version_minor": 0
      },
      "text/plain": [
       "  0%|          | 0/21640 [00:00<?, ?it/s]"
      ]
     },
     "metadata": {},
     "output_type": "display_data"
    },
    {
     "name": "stderr",
     "output_type": "stream",
     "text": [
      "You're using a BertTokenizerFast tokenizer. Please note that with a fast tokenizer, using the `__call__` method is faster than using a method to encode the text followed by a call to the `pad` method to get a padded encoding.\n"
     ]
    },
    {
     "name": "stdout",
     "output_type": "stream",
     "text": [
      "{'loss': 0.2225, 'learning_rate': 1.9537892791127542e-05, 'epoch': 0.05}\n",
      "{'loss': 0.0882, 'learning_rate': 1.9075785582255083e-05, 'epoch': 0.09}\n",
      "{'loss': 0.0792, 'learning_rate': 1.8613678373382627e-05, 'epoch': 0.14}\n",
      "{'loss': 0.0736, 'learning_rate': 1.8151571164510168e-05, 'epoch': 0.18}\n",
      "{'loss': 0.063, 'learning_rate': 1.768946395563771e-05, 'epoch': 0.23}\n",
      "{'loss': 0.0595, 'learning_rate': 1.7227356746765253e-05, 'epoch': 0.28}\n",
      "{'loss': 0.0381, 'learning_rate': 1.676524953789279e-05, 'epoch': 0.32}\n",
      "{'loss': 0.0482, 'learning_rate': 1.6303142329020334e-05, 'epoch': 0.37}\n",
      "{'loss': 0.0505, 'learning_rate': 1.5841035120147875e-05, 'epoch': 0.42}\n",
      "{'loss': 0.0474, 'learning_rate': 1.5378927911275416e-05, 'epoch': 0.46}\n",
      "{'loss': 0.0556, 'learning_rate': 1.4916820702402958e-05, 'epoch': 0.51}\n",
      "{'loss': 0.0334, 'learning_rate': 1.44547134935305e-05, 'epoch': 0.55}\n",
      "{'loss': 0.05, 'learning_rate': 1.3992606284658041e-05, 'epoch': 0.6}\n",
      "{'loss': 0.0385, 'learning_rate': 1.3530499075785584e-05, 'epoch': 0.65}\n",
      "{'loss': 0.0337, 'learning_rate': 1.3068391866913126e-05, 'epoch': 0.69}\n",
      "{'loss': 0.0454, 'learning_rate': 1.2606284658040667e-05, 'epoch': 0.74}\n",
      "{'loss': 0.0319, 'learning_rate': 1.214417744916821e-05, 'epoch': 0.79}\n",
      "{'loss': 0.0478, 'learning_rate': 1.1682070240295748e-05, 'epoch': 0.83}\n",
      "{'loss': 0.027, 'learning_rate': 1.121996303142329e-05, 'epoch': 0.88}\n",
      "{'loss': 0.0369, 'learning_rate': 1.0757855822550833e-05, 'epoch': 0.92}\n",
      "{'loss': 0.0422, 'learning_rate': 1.0295748613678374e-05, 'epoch': 0.97}\n"
     ]
    },
    {
     "data": {
      "application/vnd.jupyter.widget-view+json": {
       "model_id": "4df21e655b4e41bbb73ac965177a6040",
       "version_major": 2,
       "version_minor": 0
      },
      "text/plain": [
       "  0%|          | 0/3607 [00:00<?, ?it/s]"
      ]
     },
     "metadata": {},
     "output_type": "display_data"
    },
    {
     "name": "stdout",
     "output_type": "stream",
     "text": [
      "{'eval_loss': 0.02586720883846283, 'eval_accuracy': 0.9950648774536985, 'eval_runtime': 355.3204, 'eval_samples_per_second': 50.754, 'eval_steps_per_second': 10.151, 'epoch': 1.0}\n",
      "{'loss': 0.0427, 'learning_rate': 9.833641404805916e-06, 'epoch': 1.02}\n",
      "{'loss': 0.0091, 'learning_rate': 9.371534195933457e-06, 'epoch': 1.06}\n",
      "{'loss': 0.0139, 'learning_rate': 8.909426987060998e-06, 'epoch': 1.11}\n",
      "{'loss': 0.0142, 'learning_rate': 8.44731977818854e-06, 'epoch': 1.16}\n",
      "{'loss': 0.0291, 'learning_rate': 7.985212569316083e-06, 'epoch': 1.2}\n",
      "{'loss': 0.0142, 'learning_rate': 7.523105360443623e-06, 'epoch': 1.25}\n",
      "{'loss': 0.0115, 'learning_rate': 7.060998151571166e-06, 'epoch': 1.29}\n",
      "{'loss': 0.0131, 'learning_rate': 6.5988909426987065e-06, 'epoch': 1.34}\n",
      "{'loss': 0.0234, 'learning_rate': 6.136783733826248e-06, 'epoch': 1.39}\n",
      "{'loss': 0.0093, 'learning_rate': 5.67467652495379e-06, 'epoch': 1.43}\n",
      "{'loss': 0.0092, 'learning_rate': 5.212569316081332e-06, 'epoch': 1.48}\n",
      "{'loss': 0.0103, 'learning_rate': 4.750462107208873e-06, 'epoch': 1.52}\n",
      "{'loss': 0.0095, 'learning_rate': 4.288354898336414e-06, 'epoch': 1.57}\n",
      "{'loss': 0.0037, 'learning_rate': 3.826247689463956e-06, 'epoch': 1.62}\n",
      "{'loss': 0.0265, 'learning_rate': 3.3641404805914975e-06, 'epoch': 1.66}\n",
      "{'loss': 0.0064, 'learning_rate': 2.902033271719039e-06, 'epoch': 1.71}\n",
      "{'loss': 0.0078, 'learning_rate': 2.4399260628465807e-06, 'epoch': 1.76}\n",
      "{'loss': 0.0083, 'learning_rate': 1.9778188539741222e-06, 'epoch': 1.8}\n",
      "{'loss': 0.017, 'learning_rate': 1.5157116451016638e-06, 'epoch': 1.85}\n",
      "{'loss': 0.0064, 'learning_rate': 1.0536044362292054e-06, 'epoch': 1.89}\n",
      "{'loss': 0.0016, 'learning_rate': 5.914972273567468e-07, 'epoch': 1.94}\n",
      "{'loss': 0.0048, 'learning_rate': 1.2939001848428837e-07, 'epoch': 1.99}\n"
     ]
    },
    {
     "data": {
      "application/vnd.jupyter.widget-view+json": {
       "model_id": "974adeac8673409294afc4f18787e14a",
       "version_major": 2,
       "version_minor": 0
      },
      "text/plain": [
       "  0%|          | 0/3607 [00:00<?, ?it/s]"
      ]
     },
     "metadata": {},
     "output_type": "display_data"
    },
    {
     "name": "stdout",
     "output_type": "stream",
     "text": [
      "{'eval_loss': 0.021916883066296577, 'eval_accuracy': 0.9965620494621271, 'eval_runtime': 349.5045, 'eval_samples_per_second': 51.599, 'eval_steps_per_second': 10.32, 'epoch': 2.0}\n",
      "{'train_runtime': 7626.5149, 'train_samples_per_second': 14.187, 'train_steps_per_second': 2.837, 'train_loss': 0.034863851746878206, 'epoch': 2.0}\n"
     ]
    },
    {
     "data": {
      "text/plain": [
       "TrainOutput(global_step=21640, training_loss=0.034863851746878206, metrics={'train_runtime': 7626.5149, 'train_samples_per_second': 14.187, 'train_steps_per_second': 2.837, 'train_loss': 0.034863851746878206, 'epoch': 2.0})"
      ]
     },
     "execution_count": 38,
     "metadata": {},
     "output_type": "execute_result"
    }
   ],
   "source": [
    "training_args = TrainingArguments(\n",
    "    output_dir=\"fake_news_detector\",\n",
    "    learning_rate=2e-5,\n",
    "    per_device_train_batch_size=5,\n",
    "    per_device_eval_batch_size=5,\n",
    "    num_train_epochs=2,\n",
    "    weight_decay=0.01,\n",
    "    evaluation_strategy=\"epoch\",\n",
    "    save_strategy=\"epoch\",\n",
    "    load_best_model_at_end=True,\n",
    "    push_to_hub=True,\n",
    ")\n",
    "\n",
    "trainer = Trainer(\n",
    "    model=model,\n",
    "    args=training_args,\n",
    "    train_dataset=train,\n",
    "    eval_dataset=test,\n",
    "    tokenizer=tokenizer,\n",
    "    data_collator=data_collator,\n",
    "    compute_metrics=compute_metrics,\n",
    ")\n",
    "\n",
    "trainer.train()"
   ]
  },
  {
   "cell_type": "code",
   "execution_count": 39,
   "metadata": {},
   "outputs": [],
   "source": [
    "trainer.save_model()"
   ]
  }
 ],
 "metadata": {
  "kernelspec": {
   "display_name": "Python 3",
   "language": "python",
   "name": "python3"
  },
  "language_info": {
   "codemirror_mode": {
    "name": "ipython",
    "version": 3
   },
   "file_extension": ".py",
   "mimetype": "text/x-python",
   "name": "python",
   "nbconvert_exporter": "python",
   "pygments_lexer": "ipython3",
   "version": "3.11.4"
  }
 },
 "nbformat": 4,
 "nbformat_minor": 2
}
